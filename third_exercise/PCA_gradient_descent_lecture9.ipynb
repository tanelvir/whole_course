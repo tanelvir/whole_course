{
 "cells": [
  {
   "cell_type": "code",
   "execution_count": 1,
   "metadata": {
    "collapsed": true
   },
   "outputs": [],
   "source": [
    "from __future__ import division\n",
    "%matplotlib inline\n",
    "import numpy as np\n",
    "import numpy.matlib\n",
    "import matplotlib.pyplot as plt\n",
    "import math\n",
    "import random"
   ]
  },
  {
   "cell_type": "markdown",
   "metadata": {},
   "source": [
    "Let's generate some synthetic data"
   ]
  },
  {
   "cell_type": "code",
   "execution_count": 2,
   "metadata": {
    "collapsed": false
   },
   "outputs": [
    {
     "data": {
      "text/plain": [
       "<matplotlib.text.Text at 0x7f3d68186cd0>"
      ]
     },
     "execution_count": 2,
     "metadata": {},
     "output_type": "execute_result"
    },
    {
     "data": {
      "image/png": "[encoded data removed]",
      "text/plain": [
       "<matplotlib.figure.Figure at 0x7f3d6a1c1290>"
      ]
     },
     "metadata": {},
     "output_type": "display_data"
    }
   ],
   "source": [
    "Mean = [2,3]\n",
    "Sigma = np.array([[5, 1], [1, 2]])\n",
    "\n",
    "# Set seed point for reproducible random samples\n",
    "np.random.seed(1)\n",
    "\n",
    "x, y = np.random.multivariate_normal(Mean, Sigma, 100).T\n",
    "DataSigma = np.cov(x,y)\n",
    "plt.scatter(x, y)\n",
    "plt.axis('equal')\n",
    "plt.xlabel('x')\n",
    "plt.ylabel('y')"
   ]
  },
  {
   "cell_type": "markdown",
   "metadata": {},
   "source": [
    "Now, before applying gradient descent to find the principal component, we need to center the data"
   ]
  },
  {
   "cell_type": "code",
   "execution_count": 3,
   "metadata": {
    "collapsed": false
   },
   "outputs": [
    {
     "data": {
      "text/plain": [
       "<matplotlib.text.Text at 0x7f3d6a1cd290>"
      ]
     },
     "execution_count": 3,
     "metadata": {},
     "output_type": "execute_result"
    },
    {
     "data": {
      "image/png": "[encoded data removed]",
      "text/plain": [
       "<matplotlib.figure.Figure at 0x7f3d680db2d0>"
      ]
     },
     "metadata": {},
     "output_type": "display_data"
    }
   ],
   "source": [
    "data_mean = np.mean([x, y], 1)\n",
    "centered_data = [x,y] - np.transpose(np.matlib.repmat(data_mean, 100, 1))\n",
    "plt.scatter(centered_data[0,:], centered_data[1,:])\n",
    "plt.xlabel('x')\n",
    "plt.ylabel('y')"
   ]
  },
  {
   "cell_type": "markdown",
   "metadata": {},
   "source": [
    "Collect the data in a data matrix"
   ]
  },
  {
   "cell_type": "code",
   "execution_count": 4,
   "metadata": {
    "collapsed": false
   },
   "outputs": [],
   "source": [
    "X = np.array([x,y])"
   ]
  },
  {
   "cell_type": "markdown",
   "metadata": {},
   "source": [
    "Now, we perform gradient descent. "
   ]
  },
  {
   "cell_type": "code",
   "execution_count": 5,
   "metadata": {
    "collapsed": false
   },
   "outputs": [],
   "source": [
    "def first_principal_component(X):\n",
    "    dims, size = X.shape\n",
    "    \n",
    "    # Center the data\n",
    "    data_mean = np.mean(X,1)\n",
    "    centered_data = X - np.matlib.repmat(data_mean, size, 1).T\n",
    "    \n",
    "    # Initialize\n",
    "    w = np.ones(dims)\n",
    "    w = w/np.linalg.norm(w)\n",
    "    value = 0\n",
    "    \n",
    "    learningrate = 0.1\n",
    "    \n",
    "    # Setting parameters for convergence check\n",
    "    num_iter = 1\n",
    "    max_iter = 10000\n",
    "    tolerance = 0.0001\n",
    "    convergence = 0\n",
    "    \n",
    "    values = []\n",
    "    \n",
    "    while convergence == 0:\n",
    "        # Compute gradient and take a step in its direction\n",
    "        grad = directional_variance_gradient(centered_data, w)\n",
    "        cur_value = directional_variance(centered_data, w)\n",
    "        values.append(cur_value)        \n",
    "        \n",
    "        # Take a step in the direction of steepest ascent\n",
    "        w = w + learningrate*grad\n",
    "        w = w/np.linalg.norm(w)\n",
    "                \n",
    "        # Checking for convergence\n",
    "        num_iter = num_iter + 1        \n",
    "        diff = abs(value - cur_value)\n",
    "        value = cur_value        \n",
    "        \n",
    "        if diff < tolerance:\n",
    "            convergence = 1\n",
    "        elif num_iter > max_iter:\n",
    "            convergence = 1                                \n",
    "    \n",
    "    return w, values\n",
    "\n",
    "def directional_variance(centered_data, w):\n",
    "    dotted = np.dot(w,centered_data)\n",
    "    squared = dotted ** 2\n",
    "    dir_var = sum(squared)\n",
    "\n",
    "    return dir_var\n",
    "\n",
    "def directional_variance_gradient(centered_data, w):\n",
    "    projection_lengths = np.dot(w,centered_data)\n",
    "    grad = 2*np.dot(projection_lengths, centered_data.T)\n",
    "    return grad\n",
    "\n",
    "def remove_projection(X, w):\n",
    "        w = np.array(w)\n",
    "        proj_lengths = np.dot(w, X) \n",
    "        #print(w.shape)\n",
    "        proj = np.outer(proj_lengths, w)\n",
    "        minusproj = np.subtract(X, proj.T)\n",
    "        return minusproj\n",
    "    \n",
    "def principal_components(X, num_components):\n",
    "    components = []\n",
    "    for _ in range(num_components):\n",
    "        component, values = first_principal_component(X)\n",
    "        component = np.array(component)        \n",
    "        components.append(component)        \n",
    "        X = remove_projection(X, component)\n",
    "        #print(X.shape)\n",
    "        \n",
    "    return components    "
   ]
  },
  {
   "cell_type": "markdown",
   "metadata": {},
   "source": [
    "Let's look at how the objective function changes during optimization; we focus on the first few steps"
   ]
  },
  {
   "cell_type": "code",
   "execution_count": 6,
   "metadata": {
    "collapsed": false
   },
   "outputs": [
    {
     "data": {
      "text/plain": [
       "<matplotlib.text.Text at 0x7f3d67fd7650>"
      ]
     },
     "execution_count": 6,
     "metadata": {},
     "output_type": "execute_result"
    },
    {
     "data": {
      "image/png": "[encoded data removed]",
      "text/plain": [
       "<matplotlib.figure.Figure at 0x7f3d68034750>"
      ]
     },
     "metadata": {},
     "output_type": "display_data"
    }
   ],
   "source": [
    "w, vals = first_principal_component(X)    \n",
    "plt.plot(vals)\n",
    "plt.axis([0, 10, 350, 400])\n",
    "plt.xlabel('Number of iterations')\n",
    "plt.ylabel('Value of f')"
   ]
  },
  {
   "cell_type": "markdown",
   "metadata": {},
   "source": [
    "Next, let's compute some principal components"
   ]
  },
  {
   "cell_type": "code",
   "execution_count": 7,
   "metadata": {
    "collapsed": false
   },
   "outputs": [
    {
     "data": {
      "text/plain": [
       "[array([ 0.90763729,  0.41975535]), array([-0.41975525,  0.90763733])]"
      ]
     },
     "execution_count": 7,
     "metadata": {},
     "output_type": "execute_result"
    }
   ],
   "source": [
    "w = principal_components(X, 2)\n",
    "w"
   ]
  },
  {
   "cell_type": "markdown",
   "metadata": {},
   "source": [
    "Let's compare them to those obtained by eigenvalue decomposition of the covariance"
   ]
  },
  {
   "cell_type": "code",
   "execution_count": 8,
   "metadata": {
    "collapsed": false
   },
   "outputs": [
    {
     "data": {
      "text/plain": [
       "array([[ 0.90766091, -0.41970427],\n",
       "       [ 0.41970427,  0.90766091]])"
      ]
     },
     "execution_count": 8,
     "metadata": {},
     "output_type": "execute_result"
    }
   ],
   "source": [
    "evals, evecs = np.linalg.eig(np.cov(X))\n",
    "evecs"
   ]
  },
  {
   "cell_type": "markdown",
   "metadata": {
    "collapsed": true
   },
   "source": [
    "Next, let's crank up the dimensions"
   ]
  },
  {
   "cell_type": "code",
   "execution_count": 9,
   "metadata": {
    "collapsed": false
   },
   "outputs": [],
   "source": [
    "A = np.random.rand(10,10)\n",
    "Sigma = np.dot(A, np.transpose(A)) # Generates a positive definite matrix, which is a valid covariance matrix\n",
    "Mean = np.zeros((10))\n",
    "dataset_size = 20\n",
    "X = np.random.multivariate_normal(Mean, Sigma, dataset_size).T\n",
    "w = principal_components(X, 10)"
   ]
  },
  {
   "cell_type": "markdown",
   "metadata": {},
   "source": [
    "Let's plot the dataset and PC"
   ]
  },
  {
   "cell_type": "code",
   "execution_count": 10,
   "metadata": {
    "collapsed": false
   },
   "outputs": [
    {
     "name": "stdout",
     "output_type": "stream",
     "text": [
      "[ 0.23910298 -0.09396628 -0.61115221  0.41512171  0.08936815  0.3499229\n",
      "  0.3809284  -0.13929479 -0.07801643 -0.29519195]\n"
     ]
    }
   ],
   "source": [
    "w = np.array(w)\n",
    "print(w[6,:])"
   ]
  },
  {
   "cell_type": "markdown",
   "metadata": {},
   "source": [
    "Let's compare with the eigenvalue decomposition of the covariance"
   ]
  },
  {
   "cell_type": "code",
   "execution_count": 11,
   "metadata": {
    "collapsed": false
   },
   "outputs": [
    {
     "name": "stdout",
     "output_type": "stream",
     "text": [
      "[-0.24209413  0.09632671  0.61290553 -0.41166633 -0.08649288 -0.35044043\n",
      " -0.37857599  0.13877582  0.07809975  0.29668443]\n"
     ]
    }
   ],
   "source": [
    "evals, evecs = np.linalg.eig(np.cov(X))\n",
    "evals, evecs = np.real(evals), np.real(evecs) \n",
    "# Numerical issues or a non-positive definite covariance matrix can lead to complex eigenvalues\n",
    "# Sort the eigenvalues\n",
    "idx = np.argsort(evals)\n",
    "# Want descending order\n",
    "idx = np.flipud(idx)\n",
    "evals_s = evals[idx]\n",
    "evecs_s = evecs[:,idx]\n",
    "print(evecs_s[:,6])"
   ]
  },
  {
   "cell_type": "markdown",
   "metadata": {},
   "source": [
    "We observe that for the smaller eigenvalues, the eigenvectors start to differ between the numerical (gradient descent) and the analytical (eigenvalue decomposition) solutions. Looking at the size of their difference, it corresponds well to the drop in eigenvalue."
   ]
  },
  {
   "cell_type": "code",
   "execution_count": 12,
   "metadata": {
    "collapsed": false
   },
   "outputs": [
    {
     "name": "stdout",
     "output_type": "stream",
     "text": [
      "[  4.70773609e-09   3.09916086e-02   4.69217519e-02   2.18707698e-01\n",
      "   8.07582278e-04   2.82595344e-01   5.03300012e-01   3.13248062e+00\n",
      "   3.13659104e+00   3.03871806e+00]\n",
      "[  4.42297356e+01   1.74435302e+00   1.29308821e+00   1.12623380e+00\n",
      "   3.98421518e-01   2.65224434e-01   1.19428844e-01   6.65870607e-02\n",
      "   2.64384774e-02   1.51190432e-05]\n"
     ]
    }
   ],
   "source": [
    "print(np.sum(w.T-evecs_s,axis=0))\n",
    "print(evals_s)"
   ]
  },
  {
   "cell_type": "code",
   "execution_count": null,
   "metadata": {
    "collapsed": true
   },
   "outputs": [],
   "source": []
  }
 ],
 "metadata": {
  "kernelspec": {
   "display_name": "Python 2",
   "language": "python",
   "name": "python2"
  },
  "language_info": {
   "codemirror_mode": {
    "name": "ipython",
    "version": 2
   },
   "file_extension": ".py",
   "mimetype": "text/x-python",
   "name": "python",
   "nbconvert_exporter": "python",
   "pygments_lexer": "ipython2",
   "version": "2.7.11"
  }
 },
 "nbformat": 4,
 "nbformat_minor": 0
}
