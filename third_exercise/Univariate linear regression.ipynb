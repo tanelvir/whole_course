{
 "cells": [
  {
   "cell_type": "code",
   "execution_count": 29,
   "metadata": {
    "collapsed": true
   },
   "outputs": [],
   "source": [
    "from __future__ import division\n",
    "%matplotlib inline\n",
    "import numpy as np\n",
    "import matplotlib.pyplot as plt\n",
    "import math\n",
    "import random"
   ]
  },
  {
   "cell_type": "markdown",
   "metadata": {},
   "source": [
    "**In this notebook, we work with linear regression with a single variable**. "
   ]
  },
  {
   "cell_type": "markdown",
   "metadata": {},
   "source": [
    "We shall work with the dataset found in the file 'murderdata.txt', which is a 20 x 5 data matrix where the columns correspond to\n",
    "\n",
    "Index (not for use in analysis)\n",
    "\n",
    "Number of inhabitants\n",
    "\n",
    "Percent with incomes below $5000\n",
    "\n",
    "Percent unemployed\n",
    "\n",
    "Murders per annum per 1,000,000 inhabitants\n",
    "\n",
    "**Reference:**\n",
    "\n",
    "Helmut Spaeth,\n",
    "Mathematical Algorithms for Linear Regression,\n",
    "Academic Press, 1991,\n",
    "ISBN 0-12-656460-4.\n",
    "\n",
    "D G Kleinbaum and L L Kupper,\n",
    "Applied Regression Analysis and Other Multivariable Methods,\n",
    "Duxbury Press, 1978, page 150.\n",
    "\n",
    "http://people.sc.fsu.edu/~jburkardt/datasets/regression\n",
    "\n",
    "**What to do?**\n",
    "\n",
    "We start by loading the data; today we will study how the number of murders relates to the percentage of unemployment."
   ]
  },
  {
   "cell_type": "code",
   "execution_count": 30,
   "metadata": {
    "collapsed": false
   },
   "outputs": [],
   "source": [
    "data = np.loadtxt('murderdata.txt')\n",
    "N, d = data.shape\n",
    "\n",
    "unemployment = data[:,3]\n",
    "murders = data[:,4]"
   ]
  },
  {
   "cell_type": "markdown",
   "metadata": {},
   "source": [
    "Let's start out by looking at our data"
   ]
  },
  {
   "cell_type": "code",
   "execution_count": 31,
   "metadata": {
    "collapsed": false
   },
   "outputs": [
    {
     "data": {
      "text/plain": [
       "<matplotlib.text.Text at 0x7f69b86f0890>"
      ]
     },
     "execution_count": 31,
     "metadata": {},
     "output_type": "execute_result"
    },
    {
     "data": {
      "image/png": "[encoded data removed]",
      "text/plain": [
       "<matplotlib.figure.Figure at 0x7f69b8662510>"
      ]
     },
     "metadata": {},
     "output_type": "display_data"
    }
   ],
   "source": [
    "plt.scatter(unemployment, murders)\n",
    "plt.xlabel('Percentage of unemployment')\n",
    "plt.ylabel('Murders per annum per 1,000,000 inhabitants')"
   ]
  },
  {
   "cell_type": "markdown",
   "metadata": {},
   "source": [
    "As you can see, there appears to be a connection between unemployment rate and murder rate. Let's try to capture this with a linear regression model: We implement gradient descent for linear regression."
   ]
  },
  {
   "cell_type": "markdown",
   "metadata": {},
   "source": [
    "For the gradient descent, we need to be able to evaluate the error function that we are minimizing:"
   ]
  },
  {
   "cell_type": "code",
   "execution_count": 32,
   "metadata": {
    "collapsed": true
   },
   "outputs": [],
   "source": [
    "def sum_of_squares_error(x, y, theta):\n",
    "    alpha, beta = theta\n",
    "    t = np.add(alpha, beta*x)\n",
    "    sq_error = np.linalg.norm((y-t)**2)\n",
    "    return sq_error"
   ]
  },
  {
   "cell_type": "markdown",
   "metadata": {},
   "source": [
    "Moreover, for the gradient descent, we need to be able to evaluate the gradient of the error function that we are minimizing\n"
   ]
  },
  {
   "cell_type": "code",
   "execution_count": 33,
   "metadata": {
    "collapsed": true
   },
   "outputs": [],
   "source": [
    "def sum_of_squares_error_grad(x, y, theta):\n",
    "    alpha, beta = theta\n",
    "    t = np.add(alpha, beta*x)\n",
    "    d_alpha = -2*np.sum(y-t)\n",
    "    d_beta = -2*np.inner(y-t,x)\n",
    "    return [d_alpha, d_beta]"
   ]
  },
  {
   "cell_type": "markdown",
   "metadata": {},
   "source": [
    "Now, we implement gradient descent for linear regression"
   ]
  },
  {
   "cell_type": "code",
   "execution_count": 63,
   "metadata": {
    "collapsed": true
   },
   "outputs": [],
   "source": [
    "def linreg_graddesc(x,y):\n",
    "    x = np.array(x)\n",
    "    y = np.array(y)\n",
    "    \n",
    "    # initialize with random values\n",
    "    random.seed(0)\n",
    "    theta = [random.random(), random.random()] # theta = [alpha, beta]\n",
    "    value = 0\n",
    "    \n",
    "    # The learning rate controls the step sizes taken, and therefore also the convergence\n",
    "    learningrate = 0.000001\n",
    "    \n",
    "    # Setting parameters for convergence check\n",
    "    num_iter = 1\n",
    "    max_iter = 10\n",
    "    tolerance = 0.0001\n",
    "    convergence = 0\n",
    "    \n",
    "    # Initialize a vector of observed values of the error function we are minimizing; for evaluation purposes\n",
    "    values = []\n",
    "    \n",
    "    while convergence == 0:\n",
    "        # Compute the current value of the error function we are minimizing, and save it for evaluation purposes\n",
    "        cur_value = sum_of_squares_error(x, y, theta)\n",
    "        values.append(cur_value)        \n",
    "        \n",
    "        # Compute the gradient and take a step in its direction\n",
    "        grad = sum_of_squares_error_grad(x, y, theta)\n",
    "        grad = np.array(grad)\n",
    "        theta = theta - learningrate*grad\n",
    "                \n",
    "        # Check for convergence\n",
    "        num_iter = num_iter + 1        \n",
    "        diff = abs(value - cur_value)              \n",
    "        \n",
    "        if diff < tolerance:\n",
    "            convergence = 1\n",
    "        elif num_iter > max_iter:\n",
    "            convergence = 1  \n",
    "        \n",
    "        # Update the value\n",
    "        value = cur_value  \n",
    "    \n",
    "    return theta, values"
   ]
  },
  {
   "cell_type": "markdown",
   "metadata": {},
   "source": [
    "Let's run the linear regression on our data."
   ]
  },
  {
   "cell_type": "code",
   "execution_count": 56,
   "metadata": {
    "collapsed": false
   },
   "outputs": [],
   "source": [
    "theta, values = linreg_graddesc(unemployment, murders)"
   ]
  },
  {
   "cell_type": "markdown",
   "metadata": {},
   "source": [
    "Let's look at how the error function changed throughout the optimization process"
   ]
  },
  {
   "cell_type": "code",
   "execution_count": 57,
   "metadata": {
    "collapsed": false
   },
   "outputs": [
    {
     "data": {
      "text/plain": [
       "array([ 0.82345821,  2.96349689])"
      ]
     },
     "execution_count": 57,
     "metadata": {},
     "output_type": "execute_result"
    },
    {
     "data": {
      "image/png": "[encoded data removed]",
      "text/plain": [
       "<matplotlib.figure.Figure at 0x7f69b843e750>"
      ]
     },
     "metadata": {},
     "output_type": "display_data"
    }
   ],
   "source": [
    "plt.plot(values)\n",
    "theta"
   ]
  },
  {
   "cell_type": "markdown",
   "metadata": {},
   "source": [
    "Next, let's look at how our obtained regression parameters fit with the data"
   ]
  },
  {
   "cell_type": "code",
   "execution_count": 58,
   "metadata": {
    "collapsed": false
   },
   "outputs": [
    {
     "data": {
      "text/plain": [
       "<matplotlib.text.Text at 0x7f69b816d810>"
      ]
     },
     "execution_count": 58,
     "metadata": {},
     "output_type": "execute_result"
    },
    {
     "data": {
      "image/png": "[encoded data removed]",
      "text/plain": [
       "<matplotlib.figure.Figure at 0x7f69b8380050>"
      ]
     },
     "metadata": {},
     "output_type": "display_data"
    }
   ],
   "source": [
    "plt.scatter(unemployment, murders)\n",
    "plt.plot([4, 10], [theta[0] + theta[1]*4, theta[0] + theta[1]*10], 'g', label='Gradient descent')\n",
    "plt.xlabel('Percentage of unemployment')\n",
    "plt.ylabel('Murders per annum per 1,000,000 inhabitants')"
   ]
  },
  {
   "cell_type": "markdown",
   "metadata": {},
   "source": [
    "It does not look too bad, right? Next, let's compare with the *analytical* solution"
   ]
  },
  {
   "cell_type": "code",
   "execution_count": 59,
   "metadata": {
    "collapsed": true
   },
   "outputs": [],
   "source": [
    "def linreg_univar_analytic(x,y):\n",
    "    N = len(x)\n",
    "    beta_top = np.mean(x)*np.mean(y) - np.dot(x,y)/N\n",
    "    beta_bottom = np.mean(x)**2 - np.dot(x,x)/N\n",
    "    beta = beta_top/beta_bottom\n",
    "    \n",
    "    alpha = np.mean(y)-beta*np.mean(x)\n",
    "    \n",
    "    return alpha, beta"
   ]
  },
  {
   "cell_type": "code",
   "execution_count": 60,
   "metadata": {
    "collapsed": false
   },
   "outputs": [],
   "source": [
    "a, b = linreg_univar_analytic(unemployment, murders)"
   ]
  },
  {
   "cell_type": "code",
   "execution_count": 61,
   "metadata": {
    "collapsed": false
   },
   "outputs": [
    {
     "data": {
      "text/plain": [
       "<matplotlib.legend.Legend at 0x7f69b7f69090>"
      ]
     },
     "execution_count": 61,
     "metadata": {},
     "output_type": "execute_result"
    },
    {
     "data": {
      "image/png": "[encoded data removed]",
      "text/plain": [
       "<matplotlib.figure.Figure at 0x7f69b8173e50>"
      ]
     },
     "metadata": {},
     "output_type": "display_data"
    }
   ],
   "source": [
    "plt.scatter(unemployment, murders)\n",
    "plt.plot([4, 10], [a + b*4, a + b*10], 'r', label='Analytic')\n",
    "plt.plot([4, 10], [theta[0] + theta[1]*4, theta[0] + theta[1]*10], 'g', label='Gradient descent')\n",
    "plt.xlabel('Percentage of unemployment')\n",
    "plt.ylabel('Murders per annum per 1,000,000 inhabitants')\n",
    "plt.legend()"
   ]
  },
  {
   "cell_type": "markdown",
   "metadata": {},
   "source": [
    "We see that our two solutions are not quite the same -- this indicates that the gradient descent did not finish converging. Let's compare the model parameters as well."
   ]
  },
  {
   "cell_type": "code",
   "execution_count": 62,
   "metadata": {
    "collapsed": false
   },
   "outputs": [
    {
     "name": "stdout",
     "output_type": "stream",
     "text": [
      "[-28.526708927055331, 7.0795542793158379]\n",
      "[ 0.82345821  2.96349689]\n"
     ]
    }
   ],
   "source": [
    "print([a,b]) # The optimal parameters fond analytically\n",
    "print(theta) # The parameters found by gradient descent"
   ]
  },
  {
   "cell_type": "markdown",
   "metadata": {},
   "source": [
    "We see that the parameters are indeed not the same.\n",
    "\n",
    "On the one hand, this illustrates very well the advantage of an analytical solution. On the other hand, we have also seen some of the problems encountered with gradient descent. But for some problems, we cannot find an analytical solution. Next time, we shall work with *stochastic* gradient descent, which converges faster."
   ]
  },
  {
   "cell_type": "code",
   "execution_count": null,
   "metadata": {
    "collapsed": true
   },
   "outputs": [],
   "source": []
  },
  {
   "cell_type": "code",
   "execution_count": null,
   "metadata": {
    "collapsed": true
   },
   "outputs": [],
   "source": []
  }
 ],
 "metadata": {
  "kernelspec": {
   "display_name": "Python 2",
   "language": "python",
   "name": "python2"
  },
  "language_info": {
   "codemirror_mode": {
    "name": "ipython",
    "version": 2
   },
   "file_extension": ".py",
   "mimetype": "text/x-python",
   "name": "python",
   "nbconvert_exporter": "python",
   "pygments_lexer": "ipython2",
   "version": "2.7.11"
  }
 },
 "nbformat": 4,
 "nbformat_minor": 0
}
