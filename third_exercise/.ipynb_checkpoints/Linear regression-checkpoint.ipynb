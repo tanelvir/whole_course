{
 "cells": [
  {
   "cell_type": "code",
   "execution_count": 2,
   "metadata": {
    "collapsed": true
   },
   "outputs": [],
   "source": [
    "from __future__ import division\n",
    "%matplotlib inline\n",
    "import numpy as np\n",
    "import matplotlib.pyplot as plt\n",
    "import math\n",
    "import random"
   ]
  },
  {
   "cell_type": "markdown",
   "metadata": {},
   "source": [
    "**In this notebook, we work with linear regression with a single variable**. "
   ]
  },
  {
   "cell_type": "markdown",
   "metadata": {},
   "source": [
    "We shall work with the dataset found in the file 'murderdata.txt', which is a 20 x 5 data matrix where the columns correspond to\n",
    "\n",
    "Index (not for use in analysis)\n",
    "\n",
    "Number of inhabitants\n",
    "\n",
    "Percent with incomes below $5000\n",
    "\n",
    "Percent unemployed\n",
    "\n",
    "Murders per annum per 1,000,000 inhabitants\n",
    "\n",
    "**Reference:**\n",
    "\n",
    "Helmut Spaeth,\n",
    "Mathematical Algorithms for Linear Regression,\n",
    "Academic Press, 1991,\n",
    "ISBN 0-12-656460-4.\n",
    "\n",
    "D G Kleinbaum and L L Kupper,\n",
    "Applied Regression Analysis and Other Multivariable Methods,\n",
    "Duxbury Press, 1978, page 150.\n",
    "\n",
    "http://people.sc.fsu.edu/~jburkardt/datasets/regression\n",
    "\n",
    "**What to do?**\n",
    "\n",
    "We start by loading the data; today we will study how the number of murders relates to the percentage of unemployment."
   ]
  },
  {
   "cell_type": "code",
   "execution_count": 17,
   "metadata": {
    "collapsed": false
   },
   "outputs": [],
   "source": [
    "data = np.loadtxt('murderdata.txt')\n",
    "N, d = data.shape\n",
    "\n",
    "unemployment = data[:,3]\n",
    "murders = data[:,4]\n",
    "allfeatures = data[:,[1, 2,3]]"
   ]
  },
  {
   "cell_type": "markdown",
   "metadata": {},
   "source": [
    "Let's start out by looking at our data"
   ]
  },
  {
   "cell_type": "code",
   "execution_count": 18,
   "metadata": {
    "collapsed": false
   },
   "outputs": [
    {
     "data": {
      "text/plain": [
       "<matplotlib.text.Text at 0x7f5e6fd75550>"
      ]
     },
     "execution_count": 18,
     "metadata": {},
     "output_type": "execute_result"
    },
    {
     "data": {
      "image/png": "[encoded data removed]",
      "text/plain": [
       "<matplotlib.figure.Figure at 0x7f5e6fe3dc10>"
      ]
     },
     "metadata": {},
     "output_type": "display_data"
    }
   ],
   "source": [
    "plt.scatter(unemployment, murders)\n",
    "plt.xlabel('Percentage of unemployment')\n",
    "plt.ylabel('Murders per annum per 1,000,000 inhabitants')"
   ]
  },
  {
   "cell_type": "markdown",
   "metadata": {},
   "source": [
    "As you can see, there appears to be a connection between unemployment rate and murder rate. Let's try to capture this with a linear regression model: We implement gradient descent for linear regression."
   ]
  },
  {
   "cell_type": "markdown",
   "metadata": {},
   "source": [
    "For the gradient descent, we need to be able to evaluate the error function that we are minimizing:"
   ]
  },
  {
   "cell_type": "code",
   "execution_count": 19,
   "metadata": {
    "collapsed": true
   },
   "outputs": [],
   "source": [
    "def sum_of_squares_error(x, y, theta):\n",
    "    alpha, beta = theta\n",
    "    t = np.add(alpha, beta*x)\n",
    "    sq_error = np.mean((y-t)**2)\n",
    "    return sq_error"
   ]
  },
  {
   "cell_type": "markdown",
   "metadata": {},
   "source": [
    "Moreover, for the gradient descent, we need to be able to evaluate the gradient of the error function that we are minimizing\n"
   ]
  },
  {
   "cell_type": "code",
   "execution_count": 20,
   "metadata": {
    "collapsed": true
   },
   "outputs": [],
   "source": [
    "def sum_of_squares_error_grad(x, y, theta):\n",
    "    alpha, beta = theta\n",
    "    t = alpha + beta*x\n",
    "    d_alpha = -2*np.mean(y-t)\n",
    "    d_beta = -2*np.mean(np.multiply(y-t,x))\n",
    "    return [d_alpha, d_beta]"
   ]
  },
  {
   "cell_type": "markdown",
   "metadata": {},
   "source": [
    "Now, we implement gradient descent for linear regression"
   ]
  },
  {
   "cell_type": "code",
   "execution_count": 21,
   "metadata": {
    "collapsed": true
   },
   "outputs": [],
   "source": [
    "def linreg_graddesc(x,y):\n",
    "    x = np.array(x)\n",
    "    y = np.array(y)\n",
    "    \n",
    "    # Initialize with random values\n",
    "    random.seed(0)\n",
    "    theta = [random.random(), random.random()] # theta = [alpha, beta]\n",
    "    value = 0\n",
    "    \n",
    "    # Keep track of the minimum so far seen\n",
    "    min_theta, min_value = None, float('inf')        \n",
    "    \n",
    "    # The learning rate controls the step sizes taken, and therefore also the convergence\n",
    "    learningrate = 0.1\n",
    "    \n",
    "    # Setting parameters for convergence check\n",
    "    num_iter = 1\n",
    "    max_iter = 100000\n",
    "    tolerance = 0.000001\n",
    "    convergence = 0\n",
    "    \n",
    "    # Initialize a vector of observed values of the error function we are minimizing; for evaluation purposes\n",
    "    values = []\n",
    "    learningrates = []\n",
    "    \n",
    "    while convergence == 0:              \n",
    "        # Compute the gradient and take a step in its direction\n",
    "        grad = sum_of_squares_error_grad(x, y, theta)\n",
    "        grad = np.array(grad)\n",
    "        theta = theta - learningrate*grad\n",
    "        \n",
    "        # Check for improvement\n",
    "        cur_value = sum_of_squares_error(x, y, theta)\n",
    "        if cur_value < min_value:\n",
    "            prev_min_value = min_value\n",
    "            min_theta = theta            \n",
    "            min_value = cur_value\n",
    "            values.append(cur_value) \n",
    "            learningrate *=1.1\n",
    "        else:\n",
    "            theta = min_theta\n",
    "            learningrate *= 0.9   \n",
    "            \n",
    "        learningrates.append(learningrate)\n",
    "                \n",
    "        # Check for convergence\n",
    "        num_iter = num_iter + 1        \n",
    "        diff = abs(prev_min_value - min_value)              \n",
    "        \n",
    "        if diff < tolerance:\n",
    "            convergence = 1\n",
    "        elif num_iter > max_iter:\n",
    "            convergence = 1  \n",
    "        \n",
    "        # Update the value\n",
    "        value = cur_value  \n",
    "    \n",
    "    return min_theta, values, learningrates"
   ]
  },
  {
   "cell_type": "markdown",
   "metadata": {},
   "source": [
    "Let's run the linear regression on our data."
   ]
  },
  {
   "cell_type": "code",
   "execution_count": 22,
   "metadata": {
    "collapsed": false
   },
   "outputs": [],
   "source": [
    "theta, values, learningrates = linreg_graddesc(unemployment, murders)"
   ]
  },
  {
   "cell_type": "markdown",
   "metadata": {},
   "source": [
    "Let's look at how the error function changed throughout the optimization process"
   ]
  },
  {
   "cell_type": "code",
   "execution_count": 23,
   "metadata": {
    "collapsed": false
   },
   "outputs": [
    {
     "name": "stdout",
     "output_type": "stream",
     "text": [
      "[-26.06375939   6.74071077]\n"
     ]
    },
    {
     "data": {
      "image/png": "[encoded data removed]",
      "text/plain": [
       "<matplotlib.figure.Figure at 0x7f5e6fe74a10>"
      ]
     },
     "metadata": {},
     "output_type": "display_data"
    }
   ],
   "source": [
    "plt.plot(values)\n",
    "plt.xlabel('iterations')\n",
    "plt.ylabel('error')\n",
    "print(theta)"
   ]
  },
  {
   "cell_type": "code",
   "execution_count": 24,
   "metadata": {
    "collapsed": false
   },
   "outputs": [
    {
     "data": {
      "text/plain": [
       "[0, 500, 0.01, 0.03]"
      ]
     },
     "execution_count": 24,
     "metadata": {},
     "output_type": "execute_result"
    },
    {
     "data": {
      "image/png": "[encoded data removed]",
      "text/plain": [
       "<matplotlib.figure.Figure at 0x7f5e6fc3cd50>"
      ]
     },
     "metadata": {},
     "output_type": "display_data"
    }
   ],
   "source": [
    "plt.plot(learningrates)\n",
    "plt.xlabel('iterations')\n",
    "plt.ylabel('learningrate')\n",
    "plt.axis([0, 500, 0.01, 0.03])"
   ]
  },
  {
   "cell_type": "markdown",
   "metadata": {},
   "source": [
    "Next, let's look at how our obtained regression parameters fit with the data"
   ]
  },
  {
   "cell_type": "code",
   "execution_count": 25,
   "metadata": {
    "collapsed": false
   },
   "outputs": [
    {
     "data": {
      "text/plain": [
       "<matplotlib.text.Text at 0x7f5e6fad4a50>"
      ]
     },
     "execution_count": 25,
     "metadata": {},
     "output_type": "execute_result"
    },
    {
     "data": {
      "image/png": "[encoded data removed]",
      "text/plain": [
       "<matplotlib.figure.Figure at 0x7f5e6fb2f410>"
      ]
     },
     "metadata": {},
     "output_type": "display_data"
    }
   ],
   "source": [
    "plt.scatter(unemployment, murders)\n",
    "plt.plot([4, 10], [theta[0] + theta[1]*4, theta[0] + theta[1]*10], 'g', label='Gradient descent')\n",
    "plt.xlabel('Percentage of unemployment')\n",
    "plt.ylabel('Murders per annum per 1,000,000 inhabitants')"
   ]
  },
  {
   "cell_type": "markdown",
   "metadata": {},
   "source": [
    "It does not look too bad, right? Next, let's compare with the *analytical* solution"
   ]
  },
  {
   "cell_type": "code",
   "execution_count": 26,
   "metadata": {
    "collapsed": true
   },
   "outputs": [],
   "source": [
    "def linreg_univar_analytic(x,y):\n",
    "    N = len(x)\n",
    "    beta_top = np.mean(x)*np.mean(y) - np.dot(x,y)/N\n",
    "    beta_bottom = np.mean(x)**2 - np.dot(x,x)/N\n",
    "    beta = beta_top/beta_bottom\n",
    "    \n",
    "    alpha = np.mean(y)-beta*np.mean(x)\n",
    "    \n",
    "    return alpha, beta"
   ]
  },
  {
   "cell_type": "code",
   "execution_count": 27,
   "metadata": {
    "collapsed": false
   },
   "outputs": [],
   "source": [
    "a, b = linreg_univar_analytic(unemployment, murders)"
   ]
  },
  {
   "cell_type": "code",
   "execution_count": 28,
   "metadata": {
    "collapsed": false
   },
   "outputs": [
    {
     "data": {
      "text/plain": [
       "<matplotlib.legend.Legend at 0x7f5e6fb38a90>"
      ]
     },
     "execution_count": 28,
     "metadata": {},
     "output_type": "execute_result"
    },
    {
     "data": {
      "image/png": "[encoded data removed]",
      "text/plain": [
       "<matplotlib.figure.Figure at 0x7f5e6fa6a910>"
      ]
     },
     "metadata": {},
     "output_type": "display_data"
    }
   ],
   "source": [
    "plt.scatter(unemployment, murders)\n",
    "plt.plot([4, 10], [a + b*4, a + b*10], 'r', label='Analytic')\n",
    "plt.plot([4, 10], [theta[0] + theta[1]*4, theta[0] + theta[1]*10], 'g', label='Gradient descent')\n",
    "plt.xlabel('Percentage of unemployment')\n",
    "plt.ylabel('Murders per annum per 1,000,000 inhabitants')\n",
    "plt.legend()"
   ]
  },
  {
   "cell_type": "markdown",
   "metadata": {},
   "source": [
    "We see that our two solutions are not quite the same -- this indicates that the gradient descent did not finish converging. Let's compare the model parameters as well."
   ]
  },
  {
   "cell_type": "code",
   "execution_count": 29,
   "metadata": {
    "collapsed": false
   },
   "outputs": [
    {
     "name": "stdout",
     "output_type": "stream",
     "text": [
      "[-28.526708927055331, 7.0795542793158379]\n",
      "[-26.06375939   6.74071077]\n"
     ]
    }
   ],
   "source": [
    "print([a,b]) # The optimal parameters fond analytically\n",
    "print(theta) # The parameters found by gradient descent"
   ]
  },
  {
   "cell_type": "markdown",
   "metadata": {},
   "source": [
    "We see that the parameters are indeed not the same.\n",
    "\n",
    "On the one hand, this illustrates very well the advantage of an analytical solution. On the other hand, we have also seen some of the problems encountered with gradient descent. But for some problems, we cannot find an analytical solution. Next time, we shall work with *stochastic* gradient descent, which converges faster."
   ]
  },
  {
   "cell_type": "markdown",
   "metadata": {},
   "source": [
    "**Next, we turn to multivariate regression**. We implement the analytic solution from the lecture slides."
   ]
  },
  {
   "cell_type": "code",
   "execution_count": 30,
   "metadata": {
    "collapsed": false
   },
   "outputs": [
    {
     "name": "stdout",
     "output_type": "stream",
     "text": [
      "[ -3.67649253e+01   7.62936937e-07   1.19217421e+00   4.71982137e+00]\n"
     ]
    }
   ],
   "source": [
    "y = murders\n",
    "\n",
    "# Append the data matrix with a column of ones\n",
    "num_pts = len(murders)\n",
    "onevec = np.ones((num_pts,1))\n",
    "X = np.concatenate((onevec, allfeatures), axis = 1)\n",
    "\n",
    "# Compute the regression coefficients\n",
    "w = np.dot(np.dot(np.linalg.inv(np.dot(np.transpose(X), X)), np.transpose(X)), y)\n",
    "    \n",
    "print(w)"
   ]
  },
  {
   "cell_type": "markdown",
   "metadata": {
    "collapsed": true
   },
   "source": [
    "What do we learn from this? $w_0$ = w[0] is the offset parameter, which does not add much interpretation. The other parameters are all positive, which means the murder rate tends to increase with all three parameters. Can we interpret the magnitudes of the $w_i$ = w[i]?"
   ]
  },
  {
   "cell_type": "markdown",
   "metadata": {},
   "source": [
    "Let's try another example. Now we shall work with the dataset found in the file *deathdata.txt*, which is a 60 by 17 data matrix containing (column-wise):\n",
    "\n",
    "Index\n",
    "\n",
    "A1 average annual precipitation in inches\n",
    "\n",
    "A2 average January temperature in degrees Fahrenheit\n",
    "\n",
    "A3 average July temperature in degrees Fahrenheit\n",
    "\n",
    "A4 percent of 1960 SMSA population 65 years old or older\n",
    "\n",
    "A5 household size, 1960\n",
    "\n",
    "A6 schooling for persons over 22\n",
    "\n",
    "A7 household with full kitchens\n",
    "\n",
    "A8 population per square mile in urbanized areas\n",
    "\n",
    "A9 percent nonwhite population\n",
    "\n",
    "A10 percent office workers\n",
    "\n",
    "A11 poor families (annual income under $3000)\n",
    "\n",
    "A12 relative pollution potential of hydrocarbons\n",
    "\n",
    "A13 relative pollution potential of oxides of Nitrogen\n",
    "\n",
    "A14 relative pollution of Sulfur Dioxide\n",
    "\n",
    "A15 percent relative humidity, annual average at 1pm.\n",
    "\n",
    "B death rate\n",
    "\n",
    "\n",
    "**References:**\n",
    "\n",
    "Richard Gunst, Robert Mason,\n",
    "Regression Analysis and Its Applications: a data-oriented approach,\n",
    "Dekker, 1980, pages 370-371.\n",
    "ISBN: 0824769937.\n",
    "\n",
    "Gary McDonald, Richard Schwing,\n",
    "Instabilities of regression estimates relating air pollution to mortality,\n",
    "Technometrics,\n",
    "Volume 15, Number 3, pages 463-482, 1973.\n",
    "\n",
    "Helmut Spaeth,\n",
    "Mathematical Algorithms for Linear Regression,\n",
    "Academic Press, 1991,\n",
    "ISBN 0-12-656460-4.\n",
    " \n",
    "http://people.sc.fsu.edu/~jburkardt/datasets/regression"
   ]
  },
  {
   "cell_type": "code",
   "execution_count": 39,
   "metadata": {
    "collapsed": false
   },
   "outputs": [
    {
     "name": "stdout",
     "output_type": "stream",
     "text": [
      "(60, 15)\n",
      "[  1.86315733e+03   2.07239872e+00  -2.17756526e+00  -2.83377840e+00\n",
      "  -1.40420888e+01  -1.15432055e+02  -2.42470823e+01  -1.14602913e+00\n",
      "   1.00416179e-02   3.53323346e+00   5.22929667e-01   2.67067080e-01\n",
      "  -8.89010971e-01   1.86641266e+00  -3.44720416e-02   5.33109320e-01]\n",
      "-1.14602913327\n"
     ]
    }
   ],
   "source": [
    "# Load the data\n",
    "data = np.loadtxt('deathdata.txt')\n",
    "N, d = data.shape\n",
    "\n",
    "# Extract the relevant parts of the data matrix\n",
    "deathrate = data[:,16]\n",
    "allfeatures = data[:,range(1,16)]\n",
    "\n",
    "y = deathrate\n",
    "\n",
    "# Append the data matrix with a column of ones\n",
    "onevec = np.ones((N,1))\n",
    "X = np.concatenate((onevec, allfeatures), axis = 1)\n",
    "\n",
    "# Compute the regression coefficients\n",
    "w = np.dot(np.dot(np.linalg.inv(np.dot(np.transpose(X), X)), np.transpose(X)), y)\n",
    "    \n",
    "print(w)\n",
    "print(w[7])"
   ]
  },
  {
   "cell_type": "markdown",
   "metadata": {},
   "source": [
    "What do we see? For instance, having more households with full kitchens seems to prevent death."
   ]
  },
  {
   "cell_type": "markdown",
   "metadata": {},
   "source": [
    "**Next, let's look at polynomial basis functions**. First, we simulate a dataset."
   ]
  },
  {
   "cell_type": "code",
   "execution_count": 54,
   "metadata": {
    "collapsed": false
   },
   "outputs": [
    {
     "data": {
      "text/plain": [
       "[<matplotlib.lines.Line2D at 0x7f5e6f7151d0>]"
      ]
     },
     "execution_count": 54,
     "metadata": {},
     "output_type": "execute_result"
    },
    {
     "data": {
      "image/png": "[encoded data removed]",
      "text/plain": [
       "<matplotlib.figure.Figure at 0x7f5e6fbcd350>"
      ]
     },
     "metadata": {},
     "output_type": "display_data"
    }
   ],
   "source": [
    "random.seed(0)\n",
    "x = np.random.random_sample(20)*2*np.pi\n",
    "y = np.sin(x) + 0.3*np.random.randn(20)\n",
    "\n",
    "# Plot data\n",
    "plt.scatter(x,y)\n",
    "plt.xlabel('x')\n",
    "plt.ylabel('y')\n",
    "\n",
    "# Plot 'generating function'\n",
    "xs = np.linspace(0,2*np.pi, 100)\n",
    "sines = np.sin(xs)\n",
    "plt.plot(xs, sines, 'r')"
   ]
  },
  {
   "cell_type": "markdown",
   "metadata": {},
   "source": [
    "First, let's try univariate linear regression"
   ]
  },
  {
   "cell_type": "code",
   "execution_count": 55,
   "metadata": {
    "collapsed": true
   },
   "outputs": [],
   "source": [
    "alpha, beta = linreg_univar_analytic(x,y)"
   ]
  },
  {
   "cell_type": "code",
   "execution_count": 58,
   "metadata": {
    "collapsed": false
   },
   "outputs": [
    {
     "data": {
      "text/plain": [
       "<matplotlib.legend.Legend at 0x7f5e6f215910>"
      ]
     },
     "execution_count": 58,
     "metadata": {},
     "output_type": "execute_result"
    },
    {
     "data": {
      "image/png": "[encoded data removed]",
      "text/plain": [
       "<matplotlib.figure.Figure at 0x7f5e6f2ee810>"
      ]
     },
     "metadata": {},
     "output_type": "display_data"
    }
   ],
   "source": [
    "# Plot data\n",
    "plt.scatter(x,y)\n",
    "plt.xlabel('x')\n",
    "plt.ylabel('y')\n",
    "\n",
    "# Plot 'generating function'\n",
    "xs = np.linspace(0,2*np.pi, 100)\n",
    "sines = np.sin(xs)\n",
    "plt.plot(xs, sines, 'r', label='Generating function')\n",
    "\n",
    "# Plot fitted linear regression curve\n",
    "reg = alpha + beta*xs\n",
    "plt.plot(xs, reg, 'g', label='Linear regression')\n",
    "plt.legend()"
   ]
  },
  {
   "cell_type": "markdown",
   "metadata": {},
   "source": [
    "Let's build a polynomial data matrix with basis functions $1, x, x^2$"
   ]
  },
  {
   "cell_type": "code",
   "execution_count": 99,
   "metadata": {
    "collapsed": false
   },
   "outputs": [],
   "source": [
    "# Add a column of ones from the start\n",
    "X = np.array([np.ones(x.shape), x, x**2]).T\n",
    "#print(X)"
   ]
  },
  {
   "cell_type": "markdown",
   "metadata": {},
   "source": [
    "Let's solve multivariate regression with our new data matrix!"
   ]
  },
  {
   "cell_type": "code",
   "execution_count": 102,
   "metadata": {
    "collapsed": false
   },
   "outputs": [],
   "source": [
    "#Compute the regression coefficients\n",
    "w = np.dot(np.dot(np.linalg.inv(np.dot(np.transpose(X), X)), np.transpose(X)), y)"
   ]
  },
  {
   "cell_type": "code",
   "execution_count": 103,
   "metadata": {
    "collapsed": false
   },
   "outputs": [
    {
     "data": {
      "text/plain": [
       "<matplotlib.legend.Legend at 0x7f5e6f2f8110>"
      ]
     },
     "execution_count": 103,
     "metadata": {},
     "output_type": "execute_result"
    },
    {
     "data": {
      "image/png": "[encoded data removed]",
      "text/plain": [
       "<matplotlib.figure.Figure at 0x7f5e6f22b910>"
      ]
     },
     "metadata": {},
     "output_type": "display_data"
    }
   ],
   "source": [
    "# Plot the corresponding solution:\n",
    "\n",
    "# Plot data\n",
    "plt.scatter(x,y)\n",
    "plt.xlabel('x')\n",
    "plt.ylabel('y')\n",
    "\n",
    "# Plot 'generating function'\n",
    "xs = np.linspace(0,2*np.pi, 100)\n",
    "sines = np.sin(xs)\n",
    "plt.plot(xs, sines, 'r', label='Generating function')\n",
    "\n",
    "# Plot fitted second degree polynomial regression curve\n",
    "reg = w[0] + w[1]*xs + w[2]*xs**2\n",
    "plt.plot(xs, reg, 'g', label='2nd degree polynomial regression')\n",
    "plt.legend()"
   ]
  },
  {
   "cell_type": "markdown",
   "metadata": {},
   "source": [
    "Let's try with a higher order polynomial with basis functions $1, x, \\ldots, x^4$"
   ]
  },
  {
   "cell_type": "code",
   "execution_count": 106,
   "metadata": {
    "collapsed": true
   },
   "outputs": [],
   "source": [
    "# Add a column of ones from the start\n",
    "X = np.array([np.ones(x.shape), x, x**2, x**3, x**4]).T\n",
    "#print(X)\n",
    "\n",
    "#Compute the regression coefficients\n",
    "w = np.dot(np.dot(np.linalg.inv(np.dot(np.transpose(X), X)), np.transpose(X)), y)"
   ]
  },
  {
   "cell_type": "markdown",
   "metadata": {},
   "source": [
    "Next, we plot the corresponding solution"
   ]
  },
  {
   "cell_type": "code",
   "execution_count": 107,
   "metadata": {
    "collapsed": false
   },
   "outputs": [
    {
     "data": {
      "text/plain": [
       "<matplotlib.legend.Legend at 0x7f5e6f85b690>"
      ]
     },
     "execution_count": 107,
     "metadata": {},
     "output_type": "execute_result"
    },
    {
     "data": {
      "image/png": "[encoded data removed]",
      "text/plain": [
       "<matplotlib.figure.Figure at 0x7f5e6f8472d0>"
      ]
     },
     "metadata": {},
     "output_type": "display_data"
    }
   ],
   "source": [
    "# Plot data\n",
    "plt.scatter(x,y)\n",
    "plt.xlabel('x')\n",
    "plt.ylabel('y')\n",
    "\n",
    "# Plot 'generating function'\n",
    "xs = np.linspace(0,2*np.pi, 100)\n",
    "sines = np.sin(xs)\n",
    "plt.plot(xs, sines, 'r', label='Generating function')\n",
    "\n",
    "# Plot fitted fourth degree polynomial regression curve\n",
    "reg = w[0] + w[1]*xs + w[2]*xs**2 + w[3]*xs**3 + w[4]*xs**4\n",
    "plt.plot(xs, reg, 'g', label='4th degree polynomial regression')\n",
    "plt.legend()"
   ]
  },
  {
   "cell_type": "markdown",
   "metadata": {},
   "source": [
    "Next, let's pick an even higher degree"
   ]
  },
  {
   "cell_type": "code",
   "execution_count": null,
   "metadata": {
    "collapsed": true
   },
   "outputs": [],
   "source": []
  }
 ],
 "metadata": {
  "kernelspec": {
   "display_name": "Python 2",
   "language": "python",
   "name": "python2"
  },
  "language_info": {
   "codemirror_mode": {
    "name": "ipython",
    "version": 2
   },
   "file_extension": ".py",
   "mimetype": "text/x-python",
   "name": "python",
   "nbconvert_exporter": "python",
   "pygments_lexer": "ipython2",
   "version": "2.7.11"
  }
 },
 "nbformat": 4,
 "nbformat_minor": 0
}
