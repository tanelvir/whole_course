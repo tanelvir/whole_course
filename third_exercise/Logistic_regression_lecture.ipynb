{
 "cells": [
  {
   "cell_type": "code",
   "execution_count": 27,
   "metadata": {
    "collapsed": true
   },
   "outputs": [],
   "source": [
    "from __future__ import division\n",
    "%matplotlib inline\n",
    "import numpy as np\n",
    "import matplotlib.pyplot as plt\n",
    "import math\n",
    "import random"
   ]
  },
  {
   "cell_type": "code",
   "execution_count": 28,
   "metadata": {
    "collapsed": false
   },
   "outputs": [],
   "source": [
    "def logistic(y):\n",
    "    out = np.exp(y)/(1+np.exp(y))\n",
    "    return out"
   ]
  },
  {
   "cell_type": "code",
   "execution_count": 29,
   "metadata": {
    "collapsed": false
   },
   "outputs": [
    {
     "data": {
      "text/plain": [
       "<matplotlib.text.Text at 0x6f7ba58>"
      ]
     },
     "execution_count": 29,
     "metadata": {},
     "output_type": "execute_result"
    },
    {
     "data": {
      "image/png": "[encoded data removed]",
      "text/plain": [
       "<matplotlib.figure.Figure at 0x6eb43c8>"
      ]
     },
     "metadata": {},
     "output_type": "display_data"
    }
   ],
   "source": [
    "x = np.linspace(-10,10,num=1000)\n",
    "plt.plot(x, logistic(x))\n",
    "plt.xlabel('x')\n",
    "plt.ylabel('y')\n",
    "plt.title('Plot of logistic function')"
   ]
  },
  {
   "cell_type": "markdown",
   "metadata": {},
   "source": [
    "Before continuing, let's load our dataset"
   ]
  },
  {
   "cell_type": "code",
   "execution_count": 30,
   "metadata": {
    "collapsed": true
   },
   "outputs": [],
   "source": [
    "data = np.loadtxt('admission_dataset.txt')\n",
    "data_matrix = data[:,[0,1]]\n",
    "admission_labels = data[:,2]"
   ]
  },
  {
   "cell_type": "code",
   "execution_count": 31,
   "metadata": {
    "collapsed": true
   },
   "outputs": [],
   "source": [
    "def logistic_insample(X, y, w):\n",
    "    N, num_feat = X.shape\n",
    "    E = 0\n",
    "    for n in range(N):\n",
    "        E = E + (1/N)*np.log(1/logistic(y)*np.dot(w, X[n,:]))\n",
    "    return E"
   ]
  },
  {
   "cell_type": "markdown",
   "metadata": {},
   "source": [
    "For the sake of checking our logistic log likelihood function logistic_insample, let's simulate a starting value of $w$ and evaluate"
   ]
  },
  {
   "cell_type": "code",
   "execution_count": 32,
   "metadata": {
    "collapsed": false
   },
   "outputs": [
    {
     "name": "stdout",
     "output_type": "stream",
     "text": [
      "[ 1.18418489  0.18418489  0.18418489  0.18418489  1.18418489  0.18418489\n",
      "  0.18418489  1.18418489  0.18418489  1.18418489  1.18418489  1.18418489\n",
      "  0.18418489  1.18418489  0.18418489  1.18418489  1.18418489  1.18418489\n",
      "  1.18418489  0.18418489  1.18418489  0.18418489  1.18418489  1.18418489\n",
      "  0.18418489  0.18418489  0.18418489  0.18418489  0.18418489  1.18418489\n",
      "  1.18418489  1.18418489  1.18418489  0.18418489  1.18418489  1.18418489\n",
      "  1.18418489  1.18418489  0.18418489  0.18418489  1.18418489  0.18418489\n",
      "  0.18418489  1.18418489  1.18418489  0.18418489  0.18418489  1.18418489\n",
      "  1.18418489  1.18418489  1.18418489  1.18418489  1.18418489  0.18418489\n",
      "  1.18418489  0.18418489  1.18418489  1.18418489  1.18418489  1.18418489\n",
      "  0.18418489  1.18418489  1.18418489  0.18418489  1.18418489  1.18418489\n",
      "  1.18418489  1.18418489  1.18418489  1.18418489  1.18418489  1.18418489\n",
      "  1.18418489  1.18418489  1.18418489  1.18418489  1.18418489  0.18418489\n",
      "  1.18418489  0.18418489  1.18418489  1.18418489  1.18418489  1.18418489\n",
      "  0.18418489  1.18418489  1.18418489  1.18418489  1.18418489  0.18418489\n",
      "  1.18418489  0.18418489  1.18418489  1.18418489  0.18418489  1.18418489\n",
      "  1.18418489  1.18418489  1.18418489  1.18418489  1.18418489  1.18418489\n",
      "  1.18418489  1.18418489  0.18418489  0.18418489  0.18418489  1.18418489\n",
      "  1.18418489  1.18418489  1.18418489  1.18418489  1.18418489  1.18418489\n",
      "  1.18418489  1.18418489  0.18418489  1.18418489  0.18418489  1.18418489\n",
      "  0.18418489  0.18418489  1.18418489  1.18418489  1.18418489  1.18418489\n",
      "  0.18418489  1.18418489  1.18418489  1.18418489  0.18418489  1.18418489\n",
      "  1.18418489  1.18418489  1.18418489  1.18418489  1.18418489  1.18418489\n",
      "  1.18418489  0.18418489  1.18418489  0.18418489  1.18418489  1.18418489\n",
      "  1.18418489  1.18418489  1.18418489  1.18418489  0.18418489  1.18418489\n",
      "  0.18418489  1.18418489  0.18418489  1.18418489  1.18418489  0.18418489\n",
      "  1.18418489  0.18418489  1.18418489  1.18418489  1.18418489  1.18418489\n",
      "  0.18418489  1.18418489  1.18418489  1.18418489  1.18418489  1.18418489\n",
      "  1.18418489  1.18418489  1.18418489  1.18418489  1.18418489  0.18418489\n",
      "  1.18418489  0.18418489  1.18418489  0.18418489  1.18418489  1.18418489\n",
      "  1.18418489  1.18418489  1.18418489  0.18418489  1.18418489  1.18418489\n",
      "  1.18418489  1.18418489  1.18418489  1.18418489  0.18418489  1.18418489\n",
      "  1.18418489  1.18418489  0.18418489  1.18418489  1.18418489  0.18418489\n",
      "  1.18418489  1.18418489  1.18418489  0.18418489  0.18418489  1.18418489\n",
      "  0.18418489  0.18418489  1.18418489  0.18418489  1.18418489  1.18418489\n",
      "  1.18418489  1.18418489  1.18418489  1.18418489  0.18418489  0.18418489\n",
      "  1.18418489  0.18418489  1.18418489  0.18418489  1.18418489  1.18418489\n",
      "  0.18418489  1.18418489  1.18418489  0.18418489  1.18418489  1.18418489\n",
      "  1.18418489  0.18418489  1.18418489  1.18418489  1.18418489  1.18418489\n",
      "  0.18418489  1.18418489  0.18418489  1.18418489  1.18418489  1.18418489\n",
      "  1.18418489  0.18418489  0.18418489  1.18418489  1.18418489  1.18418489\n",
      "  1.18418489  1.18418489  1.18418489  1.18418489  1.18418489  1.18418489\n",
      "  0.18418489  0.18418489  0.18418489  1.18418489  0.18418489  0.18418489\n",
      "  1.18418489  1.18418489  1.18418489  1.18418489  0.18418489  0.18418489\n",
      "  0.18418489  1.18418489  1.18418489  0.18418489  0.18418489  1.18418489\n",
      "  0.18418489  1.18418489  0.18418489  1.18418489  1.18418489  0.18418489\n",
      "  1.18418489  0.18418489  0.18418489  0.18418489  1.18418489  1.18418489\n",
      "  1.18418489  1.18418489  0.18418489  1.18418489  0.18418489  0.18418489\n",
      "  1.18418489  1.18418489  0.18418489  1.18418489  1.18418489  1.18418489\n",
      "  1.18418489  1.18418489  1.18418489  1.18418489  1.18418489  1.18418489\n",
      "  1.18418489  0.18418489  0.18418489  0.18418489  1.18418489  1.18418489\n",
      "  0.18418489  1.18418489  1.18418489  1.18418489  1.18418489  1.18418489\n",
      "  1.18418489  0.18418489  1.18418489  0.18418489  0.18418489  0.18418489\n",
      "  0.18418489  1.18418489  1.18418489  1.18418489  1.18418489  1.18418489\n",
      "  1.18418489  1.18418489  1.18418489  0.18418489  1.18418489  1.18418489\n",
      "  1.18418489  1.18418489  1.18418489  1.18418489  0.18418489  0.18418489\n",
      "  1.18418489  1.18418489  1.18418489  0.18418489  1.18418489  0.18418489\n",
      "  1.18418489  1.18418489  1.18418489  1.18418489  1.18418489  1.18418489\n",
      "  1.18418489  1.18418489  0.18418489  1.18418489  0.18418489  1.18418489\n",
      "  0.18418489  0.18418489  1.18418489  1.18418489  0.18418489  1.18418489\n",
      "  0.18418489  0.18418489  1.18418489  1.18418489  0.18418489  1.18418489\n",
      "  1.18418489  1.18418489  1.18418489  1.18418489  0.18418489  0.18418489\n",
      "  0.18418489  0.18418489  1.18418489  1.18418489  1.18418489  0.18418489\n",
      "  1.18418489  1.18418489  1.18418489  0.18418489  1.18418489  1.18418489\n",
      "  0.18418489  1.18418489  0.18418489  1.18418489  1.18418489  1.18418489\n",
      "  0.18418489  0.18418489  0.18418489  0.18418489  0.18418489  1.18418489\n",
      "  1.18418489  1.18418489  1.18418489  1.18418489]\n"
     ]
    }
   ],
   "source": [
    "N, num_feat = data_matrix.shape\n",
    "#Append a column of ones to the data matrix\n",
    "onevec = np.ones((N,1))\n",
    "X = np.concatenate((onevec, data_matrix), axis = 1)\n",
    "# Let's turn the admission labels into +/- 1 labels\n",
    "y = (admission_labels-0.5)*2\n",
    "\n",
    "np.random.seed(0)\n",
    "w = 0.1*np.random.randn(num_feat + 1)\n",
    "L = logistic_insample(X, y, w)\n",
    "print(L)"
   ]
  },
  {
   "cell_type": "code",
   "execution_count": 33,
   "metadata": {
    "collapsed": false
   },
   "outputs": [
    {
     "ename": "SyntaxError",
     "evalue": "invalid syntax (<ipython-input-33-ef92a70b08c8>, line 6)",
     "output_type": "error",
     "traceback": [
      "\u001b[1;36m  File \u001b[1;32m\"<ipython-input-33-ef92a70b08c8>\"\u001b[1;36m, line \u001b[1;32m6\u001b[0m\n\u001b[1;33m    g = g + #pointwise gradient\u001b[0m\n\u001b[1;37m                               ^\u001b[0m\n\u001b[1;31mSyntaxError\u001b[0m\u001b[1;31m:\u001b[0m invalid syntax\n"
     ]
    }
   ],
   "source": [
    "def logistic_gradient(X, y, w):\n",
    "    N, _ = X.shape\n",
    "    g = 0*w\n",
    "    \n",
    "    for n in range(N):\n",
    "        g = g + 1/N * -y[n] \n",
    "    return g"
   ]
  },
  {
   "cell_type": "markdown",
   "metadata": {},
   "source": [
    "Again, for checking the gradient function, let's evaluate it on our simulated $w$ value"
   ]
  },
  {
   "cell_type": "code",
   "execution_count": null,
   "metadata": {
    "collapsed": false
   },
   "outputs": [],
   "source": [
    "G = logistic_gradient(X,y,w)\n",
    "print(G)"
   ]
  },
  {
   "cell_type": "markdown",
   "metadata": {},
   "source": [
    "Having working functions for logistic log likelihood and logistic gradient, let's implement gradient descent"
   ]
  },
  {
   "cell_type": "code",
   "execution_count": null,
   "metadata": {
    "collapsed": true
   },
   "outputs": [],
   "source": [
    "def log_reg(Xorig, y, max_iter, grad_thr):   \n",
    "    \n",
    "    # X is a d by N data matrix of input values\n",
    "    num_pts, num_feat = Xorig.shape\n",
    "    onevec = np.ones((num_pts,1))\n",
    "    X = np.concatenate((onevec, Xorig), axis = 1)\n",
    "    dplus1 = num_feat + 1\n",
    "        \n",
    "    # y is a N by 1 matrix of target values -1 and 1\n",
    "    y = np.array((y-.5)*2)\n",
    "        \n",
    "    # Initialize learning rate for gradient descent\n",
    "    learningrate = 0.1        \n",
    "    \n",
    "    # Initialize weights at time step 0    \n",
    "    w = 0.1*np.random.randn(num_feat + 1)\n",
    "    \n",
    "    # Compute value of logistic log likelihood\n",
    "    value = logistic_insample(X,y,w)\n",
    "    \n",
    "    num_iter = 0  \n",
    "    convergence = 0\n",
    "    \n",
    "    # Keep track of function values\n",
    "    E_in = []\n",
    "    \n",
    "    while convergence == 0:\n",
    "        num_iter = num_iter + 1                        \n",
    "\n",
    "        # Compute gradient at current w      \n",
    "        g = logistic_gradient(X,y,w)\n",
    "       \n",
    "        # Set direction to move and take a step       \n",
    "        \n",
    "        ##############################################################\n",
    "        \n",
    "        w_new = #####Fill in!\n",
    "        \n",
    "        #################################################################\n",
    "       \n",
    "        # Check for improvement\n",
    "        # Compute in-sample error for new w\n",
    "        cur_value = logistic_insample(X,y,w_new)\n",
    "        if cur_value < value:\n",
    "            w = w_new\n",
    "            value = cur_value\n",
    "            E_in.append(value)\n",
    "            learningrate *=1.1\n",
    "        else:\n",
    "            learningrate *= 0.9   \n",
    "            \n",
    "        # Determine whether we have converged: Is gradient norm below\n",
    "        # threshold, and have we reached max_iter?\n",
    "               \n",
    "        g_norm = np.linalg.norm(g)\n",
    "        if g_norm < grad_thr:\n",
    "            convergence = 1\n",
    "        elif num_iter > max_iter:\n",
    "            convergence = 1\n",
    "           \n",
    "    return w, E_in "
   ]
  },
  {
   "cell_type": "code",
   "execution_count": null,
   "metadata": {
    "collapsed": false
   },
   "outputs": [],
   "source": [
    "w, E = log_reg(data_matrix, y, 20000, 0.0000)\n",
    "print(w)"
   ]
  },
  {
   "cell_type": "markdown",
   "metadata": {
    "collapsed": false
   },
   "source": [
    "Problem: Can you make the code faster?"
   ]
  },
  {
   "cell_type": "code",
   "execution_count": null,
   "metadata": {
    "collapsed": true
   },
   "outputs": [],
   "source": [
    "def log_pred(Xorig, w):\n",
    "    # Fill in\n",
    "    return P, pred_classes"
   ]
  },
  {
   "cell_type": "markdown",
   "metadata": {},
   "source": [
    "Let's evaluate the classification accuracy on the training set"
   ]
  },
  {
   "cell_type": "code",
   "execution_count": null,
   "metadata": {
    "collapsed": false
   },
   "outputs": [],
   "source": [
    "P, pred_classes = log_pred(data_matrix, w)\n",
    "errors = np.sum(np.abs(pred_classes - y)/2)\n",
    "error_rate = errors/N\n",
    "print(error_rate, errors)"
   ]
  },
  {
   "cell_type": "markdown",
   "metadata": {},
   "source": [
    "What is going on? Let's try with a weight matrix $w = [-4.9494, 0.7547, 0.2691]$ obtained by waiting much longer"
   ]
  },
  {
   "cell_type": "code",
   "execution_count": null,
   "metadata": {
    "collapsed": false
   },
   "outputs": [],
   "source": [
    "P, pred_classes = log_pred(data_matrix, [-4.9494, 0.7547, 0.2691])\n",
    "errors = np.sum(np.abs(pred_classes - y)/2)\n",
    "error_rate = errors/N\n",
    "print(error_rate, errors)"
   ]
  },
  {
   "cell_type": "markdown",
   "metadata": {},
   "source": [
    "My classification accuracy is not great -- is this just not working?"
   ]
  },
  {
   "cell_type": "code",
   "execution_count": null,
   "metadata": {
    "collapsed": true
   },
   "outputs": [],
   "source": []
  }
 ],
 "metadata": {
  "kernelspec": {
   "display_name": "Python 2",
   "language": "python",
   "name": "python2"
  },
  "language_info": {
   "codemirror_mode": {
    "name": "ipython",
    "version": 2
   },
   "file_extension": ".py",
   "mimetype": "text/x-python",
   "name": "python",
   "nbconvert_exporter": "python",
   "pygments_lexer": "ipython2",
   "version": "2.7.11"
  }
 },
 "nbformat": 4,
 "nbformat_minor": 0
}
