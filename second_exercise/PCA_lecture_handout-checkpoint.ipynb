{
 "cells": [
  {
   "cell_type": "markdown",
   "metadata": {},
   "source": [
    "First of all, we load our packages as always"
   ]
  },
  {
   "cell_type": "code",
   "execution_count": 89,
   "metadata": {
    "collapsed": true
   },
   "outputs": [],
   "source": [
    "from __future__ import division\n",
    "%matplotlib inline\n",
    "import numpy as np\n",
    "import matplotlib.pyplot as plt\n",
    "import math"
   ]
  },
  {
   "cell_type": "markdown",
   "metadata": {},
   "source": [
    "Let us start out with an example where we sample from the covariance matrix Sigma $= \\left(\\begin{array}{cc} 5 & 1\\\\1 & 2 \\end{array} \\right)$"
   ]
  },
  {
   "cell_type": "code",
   "execution_count": 90,
   "metadata": {
    "collapsed": false
   },
   "outputs": [],
   "source": [
    "Sigma = np.array([[5, 1], [1, 2]])\n",
    "Mean = [0,0]"
   ]
  },
  {
   "cell_type": "markdown",
   "metadata": {},
   "source": [
    "We sample from a normal distribution with mean at the origin and covariance matrix Sigma"
   ]
  },
  {
   "cell_type": "code",
   "execution_count": 91,
   "metadata": {
    "collapsed": false
   },
   "outputs": [],
   "source": [
    "x, y = np.random.multivariate_normal(Mean, Sigma, 5000).T\n",
    "#plt.scatter(x, y)\n",
    "#plt.axis('equal')\n"
   ]
  },
  {
   "cell_type": "markdown",
   "metadata": {},
   "source": [
    "Let's compute the eigenvalue decomposition of Sigma"
   ]
  },
  {
   "cell_type": "code",
   "execution_count": 92,
   "metadata": {
    "collapsed": true
   },
   "outputs": [],
   "source": [
    "evals, evecs = np.linalg.eig(Sigma)"
   ]
  },
  {
   "cell_type": "markdown",
   "metadata": {},
   "source": [
    "Let's take a look at the eigenvalues"
   ]
  },
  {
   "cell_type": "code",
   "execution_count": 93,
   "metadata": {
    "collapsed": false
   },
   "outputs": [],
   "source": [
    "#evals"
   ]
  },
  {
   "cell_type": "markdown",
   "metadata": {},
   "source": [
    "Ordering the eigenvalues from highest to lowest, we get $\\lambda_1 = 5.30, \\lambda_2 = 1.67$. Does this fit what we see? What if we change the covariance matrix to Sigma $= \\left(\\begin{array}{cc} 5 & -1\\\\-1 & 2 \\end{array} \\right)$"
   ]
  },
  {
   "cell_type": "code",
   "execution_count": 94,
   "metadata": {
    "collapsed": false
   },
   "outputs": [],
   "source": [
    "Sigma = np.array([[5, -1], [-1, 2]])\n",
    "x, y = np.random.multivariate_normal(Mean, Sigma, 5000).T\n",
    "#plt.scatter(x, y)\n",
    "#plt.axis('equal')\n",
    "evals, evecs = np.linalg.eig(Sigma)\n",
    "#evals"
   ]
  },
  {
   "cell_type": "markdown",
   "metadata": {},
   "source": [
    "Why does this change of dataset orientation make perfect sense?\n",
    "\n",
    "Next, let's compute the dataset covariance for good measure!"
   ]
  },
  {
   "cell_type": "code",
   "execution_count": 95,
   "metadata": {
    "collapsed": false
   },
   "outputs": [],
   "source": [
    "c = np.cov(x,y)\n",
    "#c"
   ]
  },
  {
   "cell_type": "markdown",
   "metadata": {},
   "source": [
    "Hopla! It's not the same as Sigma! Why is that?"
   ]
  },
  {
   "cell_type": "markdown",
   "metadata": {},
   "source": [
    "Let's try a different Sigma altogether"
   ]
  },
  {
   "cell_type": "code",
   "execution_count": 96,
   "metadata": {
    "collapsed": false
   },
   "outputs": [],
   "source": [
    "Sigma = [[1.0250, -0.0433], [-0.0433, 0.9750]]"
   ]
  },
  {
   "cell_type": "code",
   "execution_count": 97,
   "metadata": {
    "collapsed": false
   },
   "outputs": [],
   "source": [
    "x, y = np.random.multivariate_normal(Mean, Sigma, 5000).T\n",
    "#plt.scatter(x, y)\n",
    "#plt.axis('equal')\n",
    "evals, evecs = np.linalg.eig(np.cov(x,y))\n",
    "#evals"
   ]
  },
  {
   "cell_type": "markdown",
   "metadata": {},
   "source": [
    "We see that $\\lambda_1 = 1.07$ and $\\lambda_2 = 0.95$, that is $\\lambda_1 \\approx \\lambda_2$. This corresponds well to the dataset having near-spherical shape"
   ]
  },
  {
   "cell_type": "markdown",
   "metadata": {},
   "source": [
    "Let's try a final example!"
   ]
  },
  {
   "cell_type": "code",
   "execution_count": 98,
   "metadata": {
    "collapsed": false
   },
   "outputs": [
    {
     "name": "stderr",
     "output_type": "stream",
     "text": [
      "C:\\Users\\Taneli\\Anaconda2\\lib\\site-packages\\ipykernel\\__main__.py:2: RuntimeWarning: covariance is not positive-semidefinite.\n",
      "  from ipykernel import kernelapp as app\n"
     ]
    },
    {
     "data": {
      "text/plain": [
       "array([ -8.88178420e-16,   3.99291716e+00])"
      ]
     },
     "execution_count": 98,
     "metadata": {},
     "output_type": "execute_result"
    },
    {
     "data": {
      "image/png": "[encoded data removed]",
      "text/plain": [
       "<matplotlib.figure.Figure at 0x99ab080>"
      ]
     },
     "metadata": {},
     "output_type": "display_data"
    }
   ],
   "source": [
    "Sigma = [[1.0000, 1.7321], [1.7321, 3.0000]]\n",
    "x, y = np.random.multivariate_normal(Mean, Sigma, 5000).T\n",
    "plt.scatter(x, y)\n",
    "plt.axis('equal')\n",
    "evals, evecs = np.linalg.eig(np.cov(x,y))\n",
    "evals"
   ]
  },
  {
   "cell_type": "markdown",
   "metadata": {},
   "source": [
    "We see that for this dataset, $\\lambda_1 = 4.03$ while $\\lambda_2 = 0$. When the eigenvalues are not all positive (non-zero), the covariance matrix is not *positive definite*, which makes python complain. Another effect is that the data lives on a lower-dimensional linear subspace.\n",
    "\n",
    "Note that all these examples correspond to examples that we saw back in Lecture 2 for diagonal covariance matrices -- only with those matrices, we could only represent datasets whose orientations were along the vector space axes.\n",
    "\n",
    "**But the eigenvalue decomposition gives us more than dataset shape!**\n",
    "\n",
    "Let us return to the first covariance matrix Sigma and plot the dataset together with the two eigenvectors"
   ]
  },
  {
   "cell_type": "code",
   "execution_count": 99,
   "metadata": {
    "collapsed": false
   },
   "outputs": [
    {
     "data": {
      "text/plain": [
       "[<matplotlib.lines.Line2D at 0x98c03c8>]"
      ]
     },
     "execution_count": 99,
     "metadata": {},
     "output_type": "execute_result"
    },
    {
     "data": {
      "image/png": "[encoded data removed]",
      "text/plain": [
       "<matplotlib.figure.Figure at 0x994c128>"
      ]
     },
     "metadata": {},
     "output_type": "display_data"
    }
   ],
   "source": [
    "Sigma = np.array([[5, 1], [1, 2]])\n",
    "x, y = np.random.multivariate_normal(Mean, Sigma, 5000).T\n",
    "DataSigma = np.cov(x,y)\n",
    "plt.scatter(x, y)\n",
    "plt.axis('equal')\n",
    "evals, evecs = np.linalg.eig(DataSigma)\n",
    "\n",
    "# Compute the corresponding standard deviations\n",
    "s0 = np.sqrt(evals[0])\n",
    "s1 = np.sqrt(evals[1])\n",
    "\n",
    "plt.plot([0, s0*evecs[0,0]], [0, s0*evecs[1,0]], 'r')\n",
    "plt.plot([0, s1*evecs[0,1]], [0, s1*evecs[1,1]], 'r')"
   ]
  },
  {
   "cell_type": "markdown",
   "metadata": {},
   "source": [
    "In the above, we used a few facts from the lectures for our visualization:\n",
    "* The eigenvalue decomposition diagonalizes the covariance matrix. The diagonal matrix with eigenvalues along the diagonal is the covariance matrix in the basis given by the eigenvectors.\n",
    "* We plotted the directions of the eigenvectors in red, and see that indeed, as we observed in Lecture 2 when viewing diagonal covariance matrices, these were parallel to the axes.\n",
    "* In a diagonal covariance matrix, the diagonal elements are variances. The square root of a variance is a standard deviation, and the length of the two red vectors correspond, indeed, to the datasets projected onto the subspace spanned by that \n",
    "* The subspaces spanned by these two vectors are *principal components*\n",
    "\n",
    "\n",
    "**NB!** In all the above, the data had mean 0. Now, when you compute covariance using the covariance formula, the mean is automatically deducted. But when you start plotting eigenvectors, they are not -- in this case your eigenvectors need to start at the mean. Also, if you are computing the covariance via formulas like $\\mathbf{X^TX}$, then you absolutely need to center your data first. If you are in doubt, center your data. It will almost never hurt!"
   ]
  },
  {
   "cell_type": "markdown",
   "metadata": {
    "collapsed": true
   },
   "source": [
    "**Next, let's move to an example where we study face shape**. We start by loading the dataset found in the file 'subsampled_faces.txt', which contains a subset of Tim Cootes' talking face dataset http://www-prima.inrialpes.fr/FGnet/data/01-TalkingFace/talking_face.html"
   ]
  },
  {
   "cell_type": "code",
   "execution_count": 100,
   "metadata": {
    "collapsed": false
   },
   "outputs": [],
   "source": [
    "faces = np.loadtxt('C:\\Users\\Taneli\\Downloads\\data_analysis\\subsampled_faces.txt')\n",
    "faces = np.ndarray.transpose(faces)"
   ]
  },
  {
   "cell_type": "markdown",
   "metadata": {},
   "source": [
    "Next, we separate out the x- and y- coordinates"
   ]
  },
  {
   "cell_type": "code",
   "execution_count": 101,
   "metadata": {
    "collapsed": false
   },
   "outputs": [],
   "source": [
    "faces_xcoords = faces[0:68,:]\n",
    "faces_ycoords = faces[68:167,:]"
   ]
  },
  {
   "cell_type": "markdown",
   "metadata": {},
   "source": [
    "Here's a function that will plot a given face. Let's try it on the first face in the dataset."
   ]
  },
  {
   "cell_type": "code",
   "execution_count": 102,
   "metadata": {
    "collapsed": false
   },
   "outputs": [
    {
     "data": {
      "image/png": "[encoded data removed]",
      "text/plain": [
       "<matplotlib.figure.Figure at 0x6c800f0>"
      ]
     },
     "metadata": {},
     "output_type": "display_data"
    }
   ],
   "source": [
    "def plotface(face):\n",
    "    x = face[range(0,68)]\n",
    "    y = -face[range(68,136)]\n",
    "    plt.plot(x[1:15], y[1:15])\n",
    "    plt.hold(True)\n",
    "    x1 = np.concatenate([x[range(48,60)],x[range(48,49)]])\n",
    "    plt.plot(np.concatenate([x[range(48,60)],x[range(48,49)]]), np.concatenate([y[range(48,60)],y[range(48,49)]]))\n",
    "    plt.plot(x[range(38,45)], y[range(38,45)])\n",
    "    plt.plot(np.concatenate([x[range(27,31)], x[range(27,28)]]), np.concatenate([y[range(27,31)], y[range(27,28)]]))\n",
    "    plt.plot(np.concatenate([x[range(32, 36)], x[range(32, 33)]]), np.concatenate([y[range(32, 36)], y[range(32, 33)]]))\n",
    "    plt.plot(np.concatenate([x[range(21, 27)], x[range(21, 22)]]), np.concatenate([y[range(21, 27)], y[range(21, 22)]]))\n",
    "    plt.plot(np.concatenate([x[range(14, 20)], x[range(14, 15)]]), np.concatenate([y[range(14, 20)], y[range(14, 15)]]))\n",
    "    plt.scatter(np.concatenate([x[range(46, 48)], x[range(67, 68)]]), np.concatenate([y[range(46, 48)], y[range(67,68)]]))\n",
    "    plt.axis('equal')   \n",
    "\n",
    "plotface(faces[:,0])"
   ]
  },
  {
   "cell_type": "markdown",
   "metadata": {},
   "source": [
    "Let's next compute a mean face and plot it."
   ]
  },
  {
   "cell_type": "code",
   "execution_count": 103,
   "metadata": {
    "collapsed": false
   },
   "outputs": [
    {
     "data": {
      "image/png": "[encoded data removed]",
      "text/plain": [
       "<matplotlib.figure.Figure at 0x85a5630>"
      ]
     },
     "metadata": {},
     "output_type": "display_data"
    }
   ],
   "source": [
    "meanface = np.mean(faces, 1)\n",
    "plotface(meanface)"
   ]
  },
  {
   "cell_type": "markdown",
   "metadata": {},
   "source": [
    "Next, let's perform PCA on the face dataset"
   ]
  },
  {
   "cell_type": "code",
   "execution_count": 104,
   "metadata": {
    "collapsed": false
   },
   "outputs": [],
   "source": [
    "Sigma = np.cov(faces)\n",
    "evals, evecs = np.linalg.eig(Sigma)"
   ]
  },
  {
   "cell_type": "markdown",
   "metadata": {},
   "source": [
    "Let's start out by plotting the projected variance on each principal component"
   ]
  },
  {
   "cell_type": "code",
   "execution_count": 105,
   "metadata": {
    "collapsed": false
   },
   "outputs": [
    {
     "data": {
      "text/plain": [
       "<matplotlib.text.Text at 0x8363160>"
      ]
     },
     "execution_count": 105,
     "metadata": {},
     "output_type": "execute_result"
    },
    {
     "data": {
      "image/png": "[encoded data removed]",
      "text/plain": [
       "<matplotlib.figure.Figure at 0x9bf5da0>"
      ]
     },
     "metadata": {},
     "output_type": "display_data"
    }
   ],
   "source": [
    "plt.plot(evals)\n",
    "plt.xlabel('PCs in descending order')\n",
    "plt.ylabel('Projected variance')"
   ]
  },
  {
   "cell_type": "markdown",
   "metadata": {},
   "source": [
    "Next, let's compute and plot the cumulative variance in percent"
   ]
  },
  {
   "cell_type": "code",
   "execution_count": 106,
   "metadata": {
    "collapsed": false
   },
   "outputs": [
    {
     "data": {
      "text/plain": [
       "[<matplotlib.lines.Line2D at 0x893e9b0>]"
      ]
     },
     "execution_count": 106,
     "metadata": {},
     "output_type": "execute_result"
    },
    {
     "data": {
      "image/png": "[encoded data removed]",
      "text/plain": [
       "<matplotlib.figure.Figure at 0x8f2a3c8>"
      ]
     },
     "metadata": {},
     "output_type": "display_data"
    }
   ],
   "source": [
    "c_var = np.cumsum(evals/np.sum(evals))\n",
    "plt.plot(c_var)"
   ]
  },
  {
   "cell_type": "markdown",
   "metadata": {},
   "source": [
    "We see that very much of the variance can be described by a few principal components. Let's look at the values themselves"
   ]
  },
  {
   "cell_type": "code",
   "execution_count": 107,
   "metadata": {
    "collapsed": false
   },
   "outputs": [
    {
     "data": {
      "text/plain": [
       "array([ 0.65875297,  0.95014802,  0.97104632,  0.98228118,  0.98978756,\n",
       "        0.99432228,  0.99652441,  0.99776936,  0.99869397,  0.99921436])"
      ]
     },
     "execution_count": 107,
     "metadata": {},
     "output_type": "execute_result"
    }
   ],
   "source": [
    "c_var[0:10]"
   ]
  },
  {
   "cell_type": "markdown",
   "metadata": {},
   "source": [
    "We see that two PCs describe 95 % of the variance, and six PCs describe 99 %. Why do we need so few?"
   ]
  },
  {
   "cell_type": "markdown",
   "metadata": {},
   "source": [
    "Next, let's visualize the movement along the first PC by plotting seven points along the PC, each one standard deviation apart. That is, let us plot\n",
    "\n",
    "$m - 3 \\sqrt{\\lambda_1} e_1$\n",
    "\n",
    "$m - 2 \\sqrt{\\lambda_1} e_1$\n",
    "\n",
    "$m - \\sqrt{\\lambda_1} e_1$\n",
    "\n",
    "$m$\n",
    "\n",
    "$m + \\sqrt{\\lambda_1} e_1$\n",
    "\n",
    "$m + 2 \\sqrt{\\lambda_1} e_1$\n",
    "\n",
    "$m + 3 \\sqrt{\\lambda_1} e_1$"
   ]
  },
  {
   "cell_type": "code",
   "execution_count": 108,
   "metadata": {
    "collapsed": false
   },
   "outputs": [],
   "source": [
    "e1 = evecs[:,0]\n",
    "lambda1 = evals[0]\n",
    "std1 = np.sqrt(lambda1)\n",
    "\n",
    "faces_along_pc = np.zeros((7,136))\n"
   ]
  },
  {
   "cell_type": "markdown",
   "metadata": {},
   "source": [
    "Now, let's look at the second PC"
   ]
  },
  {
   "cell_type": "code",
   "execution_count": 109,
   "metadata": {
    "collapsed": false
   },
   "outputs": [],
   "source": [
    "e2 = evecs[:,1]\n",
    "lambda2 = evals[1]\n",
    "std2 = np.sqrt(lambda2)\n",
    "\n",
    "faces_along_pc = np.zeros((7,136))\n",
    "\n",
    "# Fill in the rest"
   ]
  },
  {
   "cell_type": "code",
   "execution_count": 110,
   "metadata": {
    "collapsed": false
   },
   "outputs": [
    {
     "ename": "SyntaxError",
     "evalue": "invalid syntax (<ipython-input-110-ea5de6041286>, line 7)",
     "output_type": "error",
     "traceback": [
      "\u001b[1;36m  File \u001b[1;32m\"<ipython-input-110-ea5de6041286>\"\u001b[1;36m, line \u001b[1;32m7\u001b[0m\n\u001b[1;33m    Fill in the rest\u001b[0m\n\u001b[1;37m                   ^\u001b[0m\n\u001b[1;31mSyntaxError\u001b[0m\u001b[1;31m:\u001b[0m invalid syntax\n"
     ]
    }
   ],
   "source": [
    "e3 = evecs[:,2]\n",
    "lambda3 = evals[2]\n",
    "std3 = np.sqrt(lambda3)\n",
    "\n",
    "faces_along_pc = np.zeros((7,136))\n",
    "\n",
    "#Fill in the rest"
   ]
  },
  {
   "cell_type": "code",
   "execution_count": null,
   "metadata": {
    "collapsed": false
   },
   "outputs": [],
   "source": [
    "e4 = evecs[:,3]\n",
    "lambda4 = evals[3]\n",
    "std4 = np.sqrt(lambda4)\n",
    "\n",
    "faces_along_pc = np.zeros((7,136))\n",
    "\n",
    "#Fill in the rest"
   ]
  },
  {
   "cell_type": "code",
   "execution_count": null,
   "metadata": {
    "collapsed": true
   },
   "outputs": [],
   "source": []
  }
 ],
 "metadata": {
  "kernelspec": {
   "display_name": "Python 2",
   "language": "python",
   "name": "python2"
  },
  "language_info": {
   "codemirror_mode": {
    "name": "ipython",
    "version": 2
   },
   "file_extension": ".py",
   "mimetype": "text/x-python",
   "name": "python",
   "nbconvert_exporter": "python",
   "pygments_lexer": "ipython2",
   "version": "2.7.11"
  }
 },
 "nbformat": 4,
 "nbformat_minor": 0
}
