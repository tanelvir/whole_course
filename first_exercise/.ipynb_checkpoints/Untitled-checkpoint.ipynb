{
 "cells": [
  {
   "cell_type": "code",
   "execution_count": 26,
   "metadata": {
    "collapsed": false
   },
   "outputs": [
    {
     "ename": "SyntaxError",
     "evalue": "invalid syntax (<ipython-input-26-5181601c10a2>, line 12)",
     "output_type": "error",
     "traceback": [
      "\u001b[1;36m  File \u001b[1;32m\"<ipython-input-26-5181601c10a2>\"\u001b[1;36m, line \u001b[1;32m12\u001b[0m\n\u001b[1;33m    else:\u001b[0m\n\u001b[1;37m       ^\u001b[0m\n\u001b[1;31mSyntaxError\u001b[0m\u001b[1;31m:\u001b[0m invalid syntax\n"
     ]
    }
   ],
   "source": [
    "%matplotlib inline\n",
    "import numpy as np\n",
    "import matplotlib.pyplot as plt\n",
    "data = np.loadtxt('C:\\Users\\Taneli\\Downloads\\data_analysis\\smoking.txt')\n",
    "non_smoker_list_age = []\n",
    "non_smoker_list_FEV1 = []\n",
    "smoker_list = []\n",
    "for i in range(len(data)):\n",
    "\tif data[i,4] == 0.0:\n",
    "\t\tnon_smoker_list_age.append(data[i,0])\n",
    "\t\tnon_smoker_list_FEV1.append(data[i,1])\n",
    "\telse:\n",
    "\t\tsmoker_list.append(data[i,1])\n",
    "plt.hist(non_smoker_list_age, 20, label='Age')\n",
    "plt.hist(non_smoker_list_FEV1, 10, color='red', label='FEV1')\n",
    "plt.xlabel('Age')\n",
    "plt.ylabel('FEV1')\n",
    "plt.title('Histogram over non-smokers')\n",
    "plt.legend()"
   ]
  },
  {
   "cell_type": "code",
   "execution_count": null,
   "metadata": {
    "collapsed": true
   },
   "outputs": [],
   "source": []
  }
 ],
 "metadata": {
  "kernelspec": {
   "display_name": "Python 2",
   "language": "python",
   "name": "python2"
  },
  "language_info": {
   "codemirror_mode": {
    "name": "ipython",
    "version": 2
   },
   "file_extension": ".py",
   "mimetype": "text/x-python",
   "name": "python",
   "nbconvert_exporter": "python",
   "pygments_lexer": "ipython2",
   "version": "2.7.11"
  }
 },
 "nbformat": 4,
 "nbformat_minor": 0
}
