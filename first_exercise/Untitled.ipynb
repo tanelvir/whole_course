{
 "cells": [
  {
   "cell_type": "code",
   "execution_count": 1,
   "metadata": {
    "collapsed": false
   },
   "outputs": [
    {
     "data": {
      "text/plain": [
       "<matplotlib.legend.Legend at 0x1fb2208>"
      ]
     },
     "execution_count": 1,
     "metadata": {},
     "output_type": "execute_result"
    },
    {
     "data": {
      "image/png": "[encoded data removed]",
      "text/plain": [
       "<matplotlib.figure.Figure at 0x6bbff98>"
      ]
     },
     "metadata": {},
     "output_type": "display_data"
    }
   ],
   "source": [
    "%matplotlib inline\n",
    "import numpy as np\n",
    "import matplotlib.pyplot as plt\n",
    "data = np.loadtxt('C:\\Users\\Taneli\\Downloads\\data_analysis\\smoking.txt')\n",
    "non_smoker_list_age = []\n",
    "non_smoker_list_FEV1 = []\n",
    "smoker_list = []\n",
    "for i in range(len(data)):\n",
    "\tif data[i,4] == 0.0:\n",
    "\t\tnon_smoker_list_age.append(data[i,0])\n",
    "\t\tnon_smoker_list_FEV1.append(data[i,1])\n",
    "\telse:\n",
    "\t\tsmoker_list.append(data[i,1])\n",
    "plt.hist(non_smoker_list_age, 20, label='Age')\n",
    "plt.hist(non_smoker_list_FEV1, 10, color='red', label='FEV1')\n",
    "plt.xlabel('Age')\n",
    "plt.ylabel('FEV1')\n",
    "plt.title('Histogram over non-smokers')\n",
    "plt.legend()"
   ]
  },
  {
   "cell_type": "code",
   "execution_count": null,
   "metadata": {
    "collapsed": true
   },
   "outputs": [],
   "source": []
  }
 ],
 "metadata": {
  "kernelspec": {
   "display_name": "Python 2",
   "language": "python",
   "name": "python2"
  },
  "language_info": {
   "codemirror_mode": {
    "name": "ipython",
    "version": 2
   },
   "file_extension": ".py",
   "mimetype": "text/x-python",
   "name": "python",
   "nbconvert_exporter": "python",
   "pygments_lexer": "ipython2",
   "version": "2.7.11"
  }
 },
 "nbformat": 4,
 "nbformat_minor": 0
}
