{
 "cells": [
  {
   "cell_type": "code",
   "execution_count": 21,
   "metadata": {
    "collapsed": true
   },
   "outputs": [],
   "source": [
    "# written by Jan Kremer w/ small changes by Christian Igel\n",
    "import numpy as np\n",
    "from sklearn.datasets import load_digits # load sample data set \n",
    "from sklearn.cross_validation import train_test_split # helper for splitting the data into training and test set\n",
    "from sklearn.metrics import accuracy_score # helpter for computing the accuracy on a data sample\n",
    "from sklearn.ensemble import RandomForestClassifier "
   ]
  },
  {
   "cell_type": "code",
   "execution_count": 22,
   "metadata": {
    "collapsed": false
   },
   "outputs": [],
   "source": [
    "# load digits dataset, for a description print(digits.DESCR)\n",
    "digits = load_digits()\n",
    "\n",
    "# split dataset into training and test set\n",
    "X_train, X_test, y_train, y_test = train_test_split(digits.data, digits.target, test_size=0.33, random_state=42)"
   ]
  },
  {
   "cell_type": "code",
   "execution_count": 24,
   "metadata": {
    "collapsed": false
   },
   "outputs": [
    {
     "name": "stdout",
     "output_type": "stream",
     "text": [
      "training random forest\n",
      "accuracy on training set: 1.000\n",
      "accuracy on test set:     0.951\n"
     ]
    }
   ],
   "source": [
    "# train random forest\n",
    "print ('training random forest')\n",
    "clf = RandomForestClassifier()\n",
    "clf.fit(X_train, y_train)\n",
    "\n",
    "# training error\n",
    "pred_train = clf.predict(X_train)\n",
    "score_train = accuracy_score(y_train, pred_train)\n",
    "print ('accuracy on training set: %1.3f' % score_train)\n",
    "\n",
    "# test error\n",
    "pred_test = clf.predict(X_test)\n",
    "score_test = accuracy_score(y_test, pred_test)\n",
    "print ('accuracy on test set:     %1.3f' % score_test)"
   ]
  },
  {
   "cell_type": "code",
   "execution_count": null,
   "metadata": {
    "collapsed": true
   },
   "outputs": [],
   "source": []
  }
 ],
 "metadata": {
  "kernelspec": {
   "display_name": "Python 2",
   "language": "python",
   "name": "python2"
  },
  "language_info": {
   "codemirror_mode": {
    "name": "ipython",
    "version": 2
   },
   "file_extension": ".py",
   "mimetype": "text/x-python",
   "name": "python",
   "nbconvert_exporter": "python",
   "pygments_lexer": "ipython2",
   "version": "2.7.11"
  }
 },
 "nbformat": 4,
 "nbformat_minor": 0
}
