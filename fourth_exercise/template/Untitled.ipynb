{
 "cells": [
  {
   "cell_type": "code",
   "execution_count": 6,
   "metadata": {
    "collapsed": false
   },
   "outputs": [],
   "source": [
    "import numpy as np\n",
    "import matplotlib.pyplot as plt\n",
    "import matplotlib.markers as mark\n",
    "# input: Datamatrix as loaded by numpy.loadtxt('Irisdata.txt')\n",
    "# output: Datamatrix of the projected data onto the two first principal components.\n",
    "\n",
    "def kmeans(data, seedIndices):\n",
    "\tcluster_center = []\n",
    "\tfor i in range(len(seedIndices)):\n",
    "\t\tcluster_center.append(data[seedIndices[i]])\n",
    "\tcluster_vector = np.ones(len(data), dtype=int)\n",
    "\ttimes = 0\n",
    "\twhile (times < 4):\n",
    "\t\tcopy_cluster = cluster_vector\n",
    "\t\ttimes += 1\n",
    "\t\tfor i in range(len(data)):\n",
    "\t\t\ttemp_best = 100000\n",
    "\t\t\tbest_k = 0\n",
    "\t\t\tfor k in range(len(cluster_center)):\n",
    "\t\t\t\ttemp = np.linalg.norm(data[i] - cluster_center[k])\n",
    "\t\t\t\tif temp <= temp_best:\n",
    "\t\t\t\t\ttemp_best = temp\n",
    "\t\t\t\t\tbest_k = k\n",
    "\t\t\tcluster_vector[i] = best_k\n",
    "\n",
    "\t\tfor c in range(len(cluster_center)):\n",
    "\t\t\ttemp_vec = []\n",
    "\t\t\tfor d in range(len(cluster_vector)):\n",
    "\t\t\t\tif (cluster_vector[d] == c):\n",
    "\t\t\t\t\ttemp_vec.append(data[d])\n",
    "\t\t\tcluster_center[c] = np.mean(temp_vec, axis=0)\n",
    "\n",
    "\t#print cluster_vector\n",
    "\treturn cluster_center, cluster_vector\n",
    "\n",
    "def covariance(data):\n",
    "    length = data.shape[1]\n",
    "    new_cov = np.empty((length, length))\n",
    "    for i in range(length):\n",
    "        new_cov[i, i] = np.mean(data[:, i] * data[:, i])\n",
    "        for j in range(length):\n",
    "            new_cov[i, j] = new_cov[j, i] = np.mean(data[:, i] * data[:, j])\n",
    "    return new_cov\n",
    "\n",
    "def apply_pca(data):\n",
    "    data -= np.mean(data, 0)\n",
    "    data /= np.std(data, 0)\n",
    "    Sigma = covariance(data)\n",
    "    evals, evecs = np.linalg.eig(Sigma)\n",
    "    indexes = np.argsort(evals)[::-1][:2]\n",
    "    E, V = evals[indexes], evecs[:, indexes]\n",
    "    return np.dot(V.T, data.T).T\n",
    "\n",
    "data = np.loadtxt('Irisdata.txt')\n",
    "seedIndices = [1,2,3]\n",
    "cluster_center, cluster_vector = kmeans(data, seedIndices)\n",
    "array = apply_pca(data)\n",
    "array2 = apply_pca(cluster_center)\n",
    "#colors = [\"r\", \"b\", \"g\"]\n",
    "for i in range(len(cluster_vector)):\n",
    "    plt.scatter(array[i,0], array[i,1], label='Data') #c=colors[cluster_vector[i]], marker='x')\n",
    "for j in range(len(array2)):\n",
    "    plt.scatter(array2[j,0], array2[j,1], label='Cluster centers') # c=colors[j], marker='o')\n",
    "plt.axis('equal')\n",
    "plt.legend()\n",
    "plt.show()"
   ]
  },
  {
   "cell_type": "code",
   "execution_count": null,
   "metadata": {
    "collapsed": true
   },
   "outputs": [],
   "source": []
  },
  {
   "cell_type": "code",
   "execution_count": null,
   "metadata": {
    "collapsed": true
   },
   "outputs": [],
   "source": []
  },
  {
   "cell_type": "code",
   "execution_count": null,
   "metadata": {
    "collapsed": true
   },
   "outputs": [],
   "source": []
  },
  {
   "cell_type": "code",
   "execution_count": null,
   "metadata": {
    "collapsed": true
   },
   "outputs": [],
   "source": []
  }
 ],
 "metadata": {
  "kernelspec": {
   "display_name": "Python 2",
   "language": "python",
   "name": "python2"
  },
  "language_info": {
   "codemirror_mode": {
    "name": "ipython",
    "version": 2
   },
   "file_extension": ".py",
   "mimetype": "text/x-python",
   "name": "python",
   "nbconvert_exporter": "python",
   "pygments_lexer": "ipython2",
   "version": "2.7.11"
  }
 },
 "nbformat": 4,
 "nbformat_minor": 0
}
